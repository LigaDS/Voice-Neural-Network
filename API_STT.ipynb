{
  "nbformat": 4,
  "nbformat_minor": 0,
  "metadata": {
    "colab": {
      "provenance": [],
      "include_colab_link": true
    },
    "kernelspec": {
      "name": "python3",
      "display_name": "Python 3"
    },
    "language_info": {
      "name": "python"
    }
  },
  "cells": [
    {
      "cell_type": "markdown",
      "metadata": {
        "id": "view-in-github",
        "colab_type": "text"
      },
      "source": [
        "<a href=\"https://colab.research.google.com/github/LigaDS/Voice-Neural-Network/blob/main/API_STT.ipynb\" target=\"_parent\"><img src=\"https://colab.research.google.com/assets/colab-badge.svg\" alt=\"Open In Colab\"/></a>"
      ]
    },
    {
      "cell_type": "markdown",
      "source": [
        "API Google - Speech To Text\n",
        "\n",
        "\n"
      ],
      "metadata": {
        "id": "G8ycZfECrcYw"
      }
    },
    {
      "cell_type": "code",
      "execution_count": null,
      "metadata": {
        "id": "Aq1IbXdErZKW"
      },
      "outputs": [],
      "source": [
        "pip install SpeechRecognition"
      ]
    },
    {
      "cell_type": "code",
      "source": [
        "import speech_recognition as sr"
      ],
      "metadata": {
        "id": "ZzMm57TEsGBw"
      },
      "execution_count": null,
      "outputs": []
    },
    {
      "cell_type": "code",
      "source": [
        "# Método Simpples, para arquivos com pequena duração, temos que quebrar o áudio para melhor resolução utilizando a API gogole com speech recognized\n",
        "arquivo_audio = 'caminho do audio'\n",
        "r = sr.Recognizer()\n",
        "with sr.AudioFile(arquivo_audio) as source:\n",
        "    audio_data = r.record(source)\n",
        "    text = r.recognize_google(audio_data,language = \"pt-BR\") # pt-BR é o código para reconhecimento da língua\n",
        "    print(text)"
      ],
      "metadata": {
        "id": "hFz2S2JRsHMS"
      },
      "execution_count": null,
      "outputs": []
    },
    {
      "cell_type": "markdown",
      "source": [
        "API Sphinx - Speech To Text"
      ],
      "metadata": {
        "id": "DSX-X2eXuJfZ"
      }
    },
    {
      "cell_type": "code",
      "source": [
        "pip install pocketsphinx"
      ],
      "metadata": {
        "id": "fd370Yk9sUB3"
      },
      "execution_count": null,
      "outputs": []
    },
    {
      "cell_type": "code",
      "source": [
        "# Essa Api tem um suporte melhor para arquivos de áudio grandes, entretanto só tem suporte para francês e inglês\n",
        "arquivo_audio = 'caminho do audio'\n",
        "r = sr.Recognizer()\n",
        "with sr.AudioFile(arquivo_audio) as source:\n",
        "  audio_data = r.record(source)\n",
        "\n",
        "try:\n",
        "    print(\"Texto reconhecido \" + r.recognize_sphinx(audio_data))\n",
        "except sr.UnknownValueError:\n",
        "    print(\"Texto não compreendido\")\n",
        "except sr.RequestError as e:\n",
        "    print(\"Error; {0}\".format(e))"
      ],
      "metadata": {
        "id": "_2J4XGFoucu2"
      },
      "execution_count": null,
      "outputs": []
    },
    {
      "cell_type": "code",
      "source": [
        "import os"
      ],
      "metadata": {
        "id": "xfNI8DyrM2lN"
      },
      "execution_count": null,
      "outputs": []
    },
    {
      "cell_type": "markdown",
      "source": [
        " Função para reconhecimento de vozes em pastas"
      ],
      "metadata": {
        "id": "6Il5tFB5ONpP"
      }
    },
    {
      "cell_type": "code",
      "source": [
        "# Função para reconhecimento de vozes em pastas\n",
        "diretorio = \"caminho do diretório\"\n",
        "if os.path.isdir(diretorio):\n",
        "    arquivos = os.listdir(diretorio)\n",
        "\n",
        "    for arquivo in arquivos:\n",
        "        caminho_completo = os.path.join(diretorio, arquivo)\n",
        "\n",
        "        # Verifica se o arquivo é um arquivo de áudio\n",
        "        if arquivo.endswith('.wav') or arquivo.endswith('.mp3') or arquivo.endswith('.flac'):\n",
        "            # Inicializa o reconhecedor de fala\n",
        "            r = sr.Recognizer()\n",
        "\n",
        "            # Lê o arquivo de áudio\n",
        "            with sr.AudioFile(caminho_completo) as source:\n",
        "                audio = r.record(source)\n",
        "\n",
        "            # Realiza o reconhecimento de fala\n",
        "            try:\n",
        "                texto = r.recognize_google(audio, language='pt-BR')\n",
        "                print(f\"Texto reconhecido do arquivo {arquivo}: {texto}\")\n",
        "            except sr.UnknownValueError:\n",
        "                print(f\"Não foi possível reconhecer o áudio do arquivo {arquivo}\")\n",
        "            except sr.RequestError as e:\n",
        "                print(f\"Erro na solicitação de reconhecimento para o arquivo {arquivo}: {e}\")\n",
        "else:\n",
        "    print(f'O caminho \"{diretorio}\" não é um diretório válido.')"
      ],
      "metadata": {
        "id": "j-LLbpWNMGQM"
      },
      "execution_count": null,
      "outputs": []
    }
  ]
}