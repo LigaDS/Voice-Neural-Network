{
  "nbformat": 4,
  "nbformat_minor": 0,
  "metadata": {
    "colab": {
      "provenance": [],
      "authorship_tag": "ABX9TyN9/DSx4cyYY2b6CmKC+vOC",
      "include_colab_link": true
    },
    "kernelspec": {
      "name": "python3",
      "display_name": "Python 3"
    },
    "language_info": {
      "name": "python"
    }
  },
  "cells": [
    {
      "cell_type": "markdown",
      "metadata": {
        "id": "view-in-github",
        "colab_type": "text"
      },
      "source": [
        "<a href=\"https://colab.research.google.com/github/LigaDS/Voice-Neural-Network/blob/main/API_STT.ipynb\" target=\"_parent\"><img src=\"https://colab.research.google.com/assets/colab-badge.svg\" alt=\"Open In Colab\"/></a>"
      ]
    },
    {
      "cell_type": "markdown",
      "source": [
        "API Google - Speech To Text\n",
        "\n",
        "\n"
      ],
      "metadata": {
        "id": "G8ycZfECrcYw"
      }
    },
    {
      "cell_type": "code",
      "execution_count": null,
      "metadata": {
        "id": "Aq1IbXdErZKW"
      },
      "outputs": [],
      "source": [
        "pip install SpeechRecognition"
      ]
    },
    {
      "cell_type": "code",
      "source": [
        "import speech_recognition as sr"
      ],
      "metadata": {
        "id": "ZzMm57TEsGBw"
      },
      "execution_count": null,
      "outputs": []
    },
    {
      "cell_type": "code",
      "source": [
        "# Método Simpples, para arquivos compequena duração, temmos que quebrar o audio para melhor resolução utilizando a API gogole com speech recognized\n",
        "arquivo_audio = 'caminho do audio'\n",
        "r = sr.Recognizer()\n",
        "with sr.AudioFile(arquivo_audio) as source:\n",
        "    audio_data = r.record(source)\n",
        "    text = r.recognize_google(audio_data,language = \"pt-BR\") # pt-BR é o código para reconhecimento da língua\n",
        "    print(text)"
      ],
      "metadata": {
        "id": "hFz2S2JRsHMS"
      },
      "execution_count": null,
      "outputs": []
    },
    {
      "cell_type": "markdown",
      "source": [
        "API Sphinx - Speech To Text"
      ],
      "metadata": {
        "id": "DSX-X2eXuJfZ"
      }
    },
    {
      "cell_type": "code",
      "source": [
        "pip install pocketsphinx"
      ],
      "metadata": {
        "id": "fd370Yk9sUB3"
      },
      "execution_count": null,
      "outputs": []
    },
    {
      "cell_type": "code",
      "source": [
        "# Essaa Api tem um suporte melhor para arquivos de audio grandes, entretanto só tem suporte para francês e inglês\n",
        "arquivo_audio = 'caminho do audio'\n",
        "r = sr.Recognizer()\n",
        "with sr.AudioFile(arquivo_audio) as source:\n",
        "  audio_data = r.record(source)\n",
        "\n",
        "try:\n",
        "    print(\"Sphinx thinks you said \" + r.recognize_sphinx(audio_data))\n",
        "except sr.UnknownValueError:\n",
        "    print(\"Sphinx could not understand audio\")\n",
        "except sr.RequestError as e:\n",
        "    print(\"Sphinx error; {0}\".format(e))"
      ],
      "metadata": {
        "id": "_2J4XGFoucu2"
      },
      "execution_count": null,
      "outputs": []
    }
  ]
}
