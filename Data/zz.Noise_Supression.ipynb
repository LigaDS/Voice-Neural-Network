{
 "cells": [
  {
   "cell_type": "code",
   "execution_count": 5,
   "metadata": {},
   "outputs": [],
   "source": [
    "import os\n",
    "import numpy as np\n",
    "import noisereduce as nr\n",
    "from scipy.io import wavfile"
   ]
  },
  {
   "cell_type": "code",
   "execution_count": 17,
   "metadata": {},
   "outputs": [],
   "source": [
    "audio_data = os.listdir(os.path.join(os.getcwd(), \"Data/Raw\"))"
   ]
  },
  {
   "cell_type": "code",
   "execution_count": 23,
   "metadata": {},
   "outputs": [],
   "source": [
    "for audio_file in audio_data: \n",
    "    path_ = os.path.join(os.getcwd(), \"Data\", \"Raw\", audio_file)\n",
    "    #load data\n",
    "    rate, data = wavfile.read(path_)\n",
    "\n",
    "    # Audio precisa estar num formato diferente\n",
    "    orig_shape = data.shape # Formato inicial\n",
    "    data = np.reshape(data, (2, -1)) # data vai pro formato novo\n",
    "\n",
    "    # select section of data that is noise\n",
    "    noisy_part = data[0:int(rate*0.85)]\n",
    "    # perform noise reduction\n",
    "    reduced_noise = nr.reduce_noise(\n",
    "        y=data,\n",
    "        sr=rate,\n",
    "        stationary=True\n",
    "    )\n",
    "\n",
    "    # Deixei comentado pq da pra dar display no audio no bloco abaixo\n",
    "    wavfile.write(os.path.join(os.getcwd(), \"Data\", audio_file),\n",
    "                 rate,\n",
    "                 reduced_noise.reshape(orig_shape))"
   ]
  }
 ],
 "metadata": {
  "kernelspec": {
   "display_name": "Python 3",
   "language": "python",
   "name": "python3"
  },
  "language_info": {
   "codemirror_mode": {
    "name": "ipython",
    "version": 3
   },
   "file_extension": ".py",
   "mimetype": "text/x-python",
   "name": "python",
   "nbconvert_exporter": "python",
   "pygments_lexer": "ipython3",
   "version": "3.10.1"
  },
  "orig_nbformat": 4
 },
 "nbformat": 4,
 "nbformat_minor": 2
}
